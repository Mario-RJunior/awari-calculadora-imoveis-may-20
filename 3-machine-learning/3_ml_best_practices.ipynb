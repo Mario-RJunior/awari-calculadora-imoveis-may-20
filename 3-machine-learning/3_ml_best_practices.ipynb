{
  "nbformat": 4,
  "nbformat_minor": 0,
  "metadata": {
    "colab": {
      "name": "3-ml-best-practices.ipynb",
      "provenance": [],
      "collapsed_sections": []
    },
    "kernelspec": {
      "name": "python3",
      "display_name": "Python 3"
    }
  },
  "cells": [
    {
      "cell_type": "markdown",
      "metadata": {
        "id": "gFzQV1py16_j",
        "colab_type": "text"
      },
      "source": [
        "## 3. Machine Learning"
      ]
    },
    {
      "cell_type": "markdown",
      "metadata": {
        "id": "7emCkyBA9CI2",
        "colab_type": "text"
      },
      "source": [
        "### 3.1 Importar Dados Preprocessados"
      ]
    },
    {
      "cell_type": "code",
      "metadata": {
        "id": "bt3Yh07N9IJ_",
        "colab_type": "code",
        "colab": {}
      },
      "source": [
        "import pandas as pd\n",
        "treino = pd.read_csv('https://raw.githubusercontent.com/WittmannF/awari-calculadora-imoveis-may-20/master/2-eda-preprocessamento/treino_preprocessado.csv')\n",
        "teste = pd.read_csv('https://raw.githubusercontent.com/WittmannF/awari-calculadora-imoveis-may-20/master/2-eda-preprocessamento/teste_preprocessado.csv')"
      ],
      "execution_count": 1,
      "outputs": []
    },
    {
      "cell_type": "code",
      "metadata": {
        "id": "8el-AeKV9INq",
        "colab_type": "code",
        "colab": {}
      },
      "source": [
        "# Divisão X e y\n",
        "X_train = treino.drop('preco', axis=1)\n",
        "y_train = treino['preco']\n",
        "X_test = teste.drop('preco', axis=1)\n",
        "y_test = teste['preco']"
      ],
      "execution_count": 2,
      "outputs": []
    },
    {
      "cell_type": "markdown",
      "metadata": {
        "id": "EhEkmbXmRD4F",
        "colab_type": "text"
      },
      "source": [
        "### 3.2 Modelo \"Baseline\" (Ponto de Partida)"
      ]
    },
    {
      "cell_type": "code",
      "metadata": {
        "id": "pWm_9peL18_t",
        "colab_type": "code",
        "colab": {
          "base_uri": "https://localhost:8080/",
          "height": 35
        },
        "outputId": "c02124c6-bc8d-4bf4-db66-5b162953f70f"
      },
      "source": [
        "from sklearn.linear_model import LinearRegression\n",
        "lr = LinearRegression()\n",
        "lr.fit(X_train, y_train)\n",
        "lr.score(X_test, y_test)"
      ],
      "execution_count": 3,
      "outputs": [
        {
          "output_type": "execute_result",
          "data": {
            "text/plain": [
              "0.6236918447455909"
            ]
          },
          "metadata": {
            "tags": []
          },
          "execution_count": 3
        }
      ]
    },
    {
      "cell_type": "code",
      "metadata": {
        "id": "IDt3P5NYSTBb",
        "colab_type": "code",
        "colab": {
          "base_uri": "https://localhost:8080/",
          "height": 35
        },
        "outputId": "b7123007-8ff3-4e5f-a6a8-e9886ba2359b"
      },
      "source": [
        "from sklearn.dummy import DummyRegressor\n",
        "reg = DummyRegressor(strategy='mean')\n",
        "reg.fit(X_train, y_train)\n",
        "reg.score(X_test, y_test)"
      ],
      "execution_count": 4,
      "outputs": [
        {
          "output_type": "execute_result",
          "data": {
            "text/plain": [
              "-0.0016538742649583327"
            ]
          },
          "metadata": {
            "tags": []
          },
          "execution_count": 4
        }
      ]
    },
    {
      "cell_type": "code",
      "metadata": {
        "id": "kTOCuB7NST4v",
        "colab_type": "code",
        "colab": {}
      },
      "source": [
        ""
      ],
      "execution_count": 4,
      "outputs": []
    },
    {
      "cell_type": "markdown",
      "metadata": {
        "id": "QsHKsNbaSDPM",
        "colab_type": "text"
      },
      "source": [
        "### 3.3 Fazer triagem entre diferentes estimadores"
      ]
    },
    {
      "cell_type": "code",
      "metadata": {
        "id": "uDpvo7Fs193_",
        "colab_type": "code",
        "colab": {}
      },
      "source": [
        "from sklearn.linear_model import RidgeCV, Lasso, ElasticNet, LassoLars, HuberRegressor\n",
        "from sklearn.svm import SVR\n",
        "from sklearn.neighbors import KNeighborsRegressor\n",
        "from sklearn.ensemble import GradientBoostingRegressor, AdaBoostRegressor\n",
        "from sklearn.neural_network import MLPRegressor\n",
        "from sklearn.ensemble import RandomForestRegressor\n",
        "from lightgbm import LGBMRegressor\n",
        "from xgboost import XGBRegressor"
      ],
      "execution_count": 5,
      "outputs": []
    },
    {
      "cell_type": "code",
      "metadata": {
        "id": "zE6jqA7019w8",
        "colab_type": "code",
        "colab": {}
      },
      "source": [
        "reg_list = [RidgeCV(),\n",
        "            LGBMRegressor(), \n",
        "            XGBRegressor(objective='reg:squarederror'),\n",
        "            SVR(),\n",
        "            KNeighborsRegressor(),\n",
        "            RandomForestRegressor(),\n",
        "            AdaBoostRegressor(),\n",
        "            GradientBoostingRegressor(),\n",
        "            MLPRegressor()\n",
        "            ]"
      ],
      "execution_count": 6,
      "outputs": []
    },
    {
      "cell_type": "code",
      "metadata": {
        "id": "_s-gvXW1Tc8a",
        "colab_type": "code",
        "colab": {
          "base_uri": "https://localhost:8080/",
          "height": 1000
        },
        "outputId": "51f9a9cc-6ed5-4409-e357-b0bacecc36ba"
      },
      "source": [
        "from sklearn.model_selection import cross_val_score\n",
        "import numpy as np\n",
        "\n",
        "for reg in reg_list:\n",
        "    print(f'Treinando Modelo {reg.__class__.__name__}')\n",
        "    reg.fit(X_train, y_train)\n",
        "    \n",
        "    train_score = reg.score(X_train, y_train)\n",
        "    cv_scores = cross_val_score(reg, X_train, y_train)\n",
        "    test_score = reg.score(X_test, y_test)\n",
        "    \n",
        "    print(f\"R2 Score Train: {train_score}\")\n",
        "    print(f\"R2 Score Valid: {np.mean(cv_scores):.2f} +- {np.std(cv_scores):.2f}\")\n",
        "    print(f\"R2 Score Test: {test_score}\")\n",
        "    print('='*80)"
      ],
      "execution_count": 8,
      "outputs": [
        {
          "output_type": "stream",
          "text": [
            "Treinando Modelo RidgeCV\n",
            "R2 Score Train: 0.6012110923644094\n",
            "R2 Score Valid: 0.59 +- 0.12\n",
            "R2 Score Test: 0.6240340341635653\n",
            "================================================================================\n",
            "Treinando Modelo LGBMRegressor\n",
            "R2 Score Train: 0.7995456704936577\n",
            "R2 Score Valid: 0.69 +- 0.08\n",
            "R2 Score Test: 0.7269038788547185\n",
            "================================================================================\n",
            "Treinando Modelo XGBRegressor\n",
            "R2 Score Train: 0.7960825942221591\n",
            "R2 Score Valid: 0.73 +- 0.06\n",
            "R2 Score Test: 0.7233996294302408\n",
            "================================================================================\n",
            "Treinando Modelo SVR\n",
            "R2 Score Train: 0.7345972275266579\n",
            "R2 Score Valid: 0.72 +- 0.07\n",
            "R2 Score Test: 0.7132957760525864\n",
            "================================================================================\n",
            "Treinando Modelo KNeighborsRegressor\n",
            "R2 Score Train: 0.7924410274499227\n",
            "R2 Score Valid: 0.68 +- 0.05\n",
            "R2 Score Test: 0.7052967841630859\n",
            "================================================================================\n",
            "Treinando Modelo RandomForestRegressor\n",
            "R2 Score Train: 0.8674292439215541\n",
            "R2 Score Valid: 0.68 +- 0.05\n",
            "R2 Score Test: 0.728570755276619\n",
            "================================================================================\n",
            "Treinando Modelo AdaBoostRegressor\n",
            "R2 Score Train: 0.6545582867007731\n",
            "R2 Score Valid: 0.60 +- 0.06\n",
            "R2 Score Test: 0.5664090693088373\n",
            "================================================================================\n",
            "Treinando Modelo GradientBoostingRegressor\n",
            "R2 Score Train: 0.8086388911889636\n",
            "R2 Score Valid: 0.73 +- 0.07\n",
            "R2 Score Test: 0.7288341864082422\n",
            "================================================================================\n",
            "Treinando Modelo MLPRegressor\n"
          ],
          "name": "stdout"
        },
        {
          "output_type": "stream",
          "text": [
            "/usr/local/lib/python3.6/dist-packages/sklearn/neural_network/_multilayer_perceptron.py:571: ConvergenceWarning: Stochastic Optimizer: Maximum iterations (200) reached and the optimization hasn't converged yet.\n",
            "  % self.max_iter, ConvergenceWarning)\n",
            "/usr/local/lib/python3.6/dist-packages/sklearn/neural_network/_multilayer_perceptron.py:571: ConvergenceWarning: Stochastic Optimizer: Maximum iterations (200) reached and the optimization hasn't converged yet.\n",
            "  % self.max_iter, ConvergenceWarning)\n",
            "/usr/local/lib/python3.6/dist-packages/sklearn/neural_network/_multilayer_perceptron.py:571: ConvergenceWarning: Stochastic Optimizer: Maximum iterations (200) reached and the optimization hasn't converged yet.\n",
            "  % self.max_iter, ConvergenceWarning)\n",
            "/usr/local/lib/python3.6/dist-packages/sklearn/neural_network/_multilayer_perceptron.py:571: ConvergenceWarning: Stochastic Optimizer: Maximum iterations (200) reached and the optimization hasn't converged yet.\n",
            "  % self.max_iter, ConvergenceWarning)\n",
            "/usr/local/lib/python3.6/dist-packages/sklearn/neural_network/_multilayer_perceptron.py:571: ConvergenceWarning: Stochastic Optimizer: Maximum iterations (200) reached and the optimization hasn't converged yet.\n",
            "  % self.max_iter, ConvergenceWarning)\n"
          ],
          "name": "stderr"
        },
        {
          "output_type": "stream",
          "text": [
            "R2 Score Train: 0.7297894497444206\n",
            "R2 Score Valid: 0.68 +- 0.13\n",
            "R2 Score Test: 0.7068530427029853\n",
            "================================================================================\n"
          ],
          "name": "stdout"
        },
        {
          "output_type": "stream",
          "text": [
            "/usr/local/lib/python3.6/dist-packages/sklearn/neural_network/_multilayer_perceptron.py:571: ConvergenceWarning: Stochastic Optimizer: Maximum iterations (200) reached and the optimization hasn't converged yet.\n",
            "  % self.max_iter, ConvergenceWarning)\n"
          ],
          "name": "stderr"
        }
      ]
    },
    {
      "cell_type": "code",
      "metadata": {
        "id": "7JWKZZv8Tdec",
        "colab_type": "code",
        "colab": {}
      },
      "source": [
        "# Bonus: Testando com todos os regressores do sklearn\n",
        "from sklearn.utils import all_estimators\n",
        "\n",
        "estimators = all_estimators(type_filter='regressor')\n",
        "\n",
        "relatorio = {'nome':[],\n",
        "             'train_score':[],\n",
        "             'cv_scores_mean':[],\n",
        "             'test_score':[],\n",
        "             'estimador':[]\n",
        "             }\n",
        "\n",
        "ignore_list = ['IsotonicRegression',\n",
        " 'MultiOutputRegressor',\n",
        " 'ElasticNet',\n",
        " 'MultiTaskElasticNet',\n",
        " 'MultiTaskElasticNetCV',\n",
        " 'MultiTaskLasso',\n",
        " 'MultiTaskLassoCV',\n",
        " 'RadiusNeighborsRegressor',\n",
        " 'RegressorChain',\n",
        " 'StackingRegressor',\n",
        " 'VotingRegressor']\n"
      ],
      "execution_count": 31,
      "outputs": []
    },
    {
      "cell_type": "code",
      "metadata": {
        "id": "dxMCaBxI_Vx5",
        "colab_type": "code",
        "colab": {}
      },
      "source": [
        "estimators.extend(\n",
        "    [('LGBMRegressor', LGBMRegressor),\n",
        "     ('XGBRegressor', XGBRegressor)]\n",
        ")"
      ],
      "execution_count": 14,
      "outputs": []
    },
    {
      "cell_type": "code",
      "metadata": {
        "id": "CApLK47B_T9u",
        "colab_type": "code",
        "colab": {
          "base_uri": "https://localhost:8080/",
          "height": 1000
        },
        "outputId": "b3b3a3fe-ee27-4dfa-9a6c-8c5104ab5eb5"
      },
      "source": [
        "for name, RegressorClass in estimators:\n",
        "  if name not in ignore_list:\n",
        "    print(f'Treinando Modelo {name}')\n",
        "    reg = RegressorClass()\n",
        "    reg.fit(X_train, y_train)\n",
        "\n",
        "    train_score = reg.score(X_train, y_train)\n",
        "    cv_scores = cross_val_score(reg, X_train, y_train)\n",
        "    test_score = reg.score(X_test, y_test)\n",
        "\n",
        "    print(f\"R2 Score Train: {train_score}\")\n",
        "    print(f\"R2 Score Valid: {np.mean(cv_scores):.2f} +- {np.std(cv_scores):.2f}\")\n",
        "    print(f\"R2 Score Test: {test_score}\")\n",
        "    print('='*80)\n",
        "\n",
        "    relatorio['nome'].append(name)\n",
        "    relatorio['train_score'].append(train_score)\n",
        "    relatorio['cv_scores_mean'].append(np.mean(cv_scores))\n",
        "    relatorio['test_score'].append(test_score)\n",
        "    relatorio['estimador'].append(reg)"
      ],
      "execution_count": 16,
      "outputs": [
        {
          "output_type": "stream",
          "text": [
            "Treinando Modelo ARDRegression\n",
            "R2 Score Train: 0.8596531163839972\n",
            "R2 Score Valid: 0.67 +- 0.06\n",
            "R2 Score Test: 0.7083100244395286\n",
            "================================================================================\n",
            "Treinando Modelo BayesianRidge\n",
            "R2 Score Train: 0.6011944059402474\n",
            "R2 Score Valid: 0.59 +- 0.12\n",
            "R2 Score Test: 0.6243998859423144\n",
            "================================================================================\n",
            "Treinando Modelo CCA\n",
            "R2 Score Train: 0.28565336515321493\n",
            "R2 Score Valid: 0.27 +- 0.18\n",
            "R2 Score Test: 0.29150420597736526\n",
            "================================================================================\n",
            "Treinando Modelo DecisionTreeRegressor\n",
            "R2 Score Train: 0.8848482542159023\n",
            "R2 Score Valid: 0.61 +- 0.06\n",
            "R2 Score Test: 0.6581463146862659\n",
            "================================================================================\n",
            "Treinando Modelo DummyRegressor\n",
            "R2 Score Train: 0.0\n",
            "R2 Score Valid: -0.01 +- 0.01\n",
            "R2 Score Test: -0.0016538742649583327\n",
            "================================================================================\n",
            "Treinando Modelo ElasticNetCV\n"
          ],
          "name": "stdout"
        },
        {
          "output_type": "stream",
          "text": [
            "/usr/local/lib/python3.6/dist-packages/sklearn/cross_decomposition/_pls.py:321: UserWarning: Y residual constant at iteration 1\n",
            "  warnings.warn('Y residual constant at iteration %s' % k)\n",
            "/usr/local/lib/python3.6/dist-packages/sklearn/cross_decomposition/_pls.py:321: UserWarning: Y residual constant at iteration 1\n",
            "  warnings.warn('Y residual constant at iteration %s' % k)\n",
            "/usr/local/lib/python3.6/dist-packages/sklearn/cross_decomposition/_pls.py:321: UserWarning: Y residual constant at iteration 1\n",
            "  warnings.warn('Y residual constant at iteration %s' % k)\n",
            "/usr/local/lib/python3.6/dist-packages/sklearn/cross_decomposition/_pls.py:321: UserWarning: Y residual constant at iteration 1\n",
            "  warnings.warn('Y residual constant at iteration %s' % k)\n",
            "/usr/local/lib/python3.6/dist-packages/sklearn/cross_decomposition/_pls.py:321: UserWarning: Y residual constant at iteration 1\n",
            "  warnings.warn('Y residual constant at iteration %s' % k)\n",
            "/usr/local/lib/python3.6/dist-packages/sklearn/cross_decomposition/_pls.py:321: UserWarning: Y residual constant at iteration 1\n",
            "  warnings.warn('Y residual constant at iteration %s' % k)\n"
          ],
          "name": "stderr"
        },
        {
          "output_type": "stream",
          "text": [
            "R2 Score Train: 0.6011995333793443\n",
            "R2 Score Valid: 0.59 +- 0.12\n",
            "R2 Score Test: 0.6240946394886209\n",
            "================================================================================\n",
            "Treinando Modelo ExtraTreeRegressor\n",
            "R2 Score Train: 0.8848482542159023\n",
            "R2 Score Valid: 0.59 +- 0.06\n",
            "R2 Score Test: 0.6484608808206791\n",
            "================================================================================\n",
            "Treinando Modelo ExtraTreesRegressor\n",
            "R2 Score Train: 0.8848482542159023\n",
            "R2 Score Valid: 0.66 +- 0.05\n",
            "R2 Score Test: 0.7206912947237747\n",
            "================================================================================\n",
            "Treinando Modelo GaussianProcessRegressor\n",
            "R2 Score Train: 0.8257158312785288\n",
            "R2 Score Valid: -57814.52 +- 96367.83\n",
            "R2 Score Test: -2189.230874800904\n",
            "================================================================================\n",
            "Treinando Modelo GradientBoostingRegressor\n",
            "R2 Score Train: 0.8086388911889636\n",
            "R2 Score Valid: 0.73 +- 0.07\n",
            "R2 Score Test: 0.7291125618488584\n",
            "================================================================================\n",
            "Treinando Modelo HistGradientBoostingRegressor\n",
            "R2 Score Train: 0.8023321610668072\n",
            "R2 Score Valid: 0.69 +- 0.08\n",
            "R2 Score Test: 0.7282158996252834\n",
            "================================================================================\n",
            "Treinando Modelo HuberRegressor\n",
            "R2 Score Train: 0.562906253127321\n",
            "R2 Score Valid: 0.56 +- 0.16\n",
            "R2 Score Test: 0.6163984066158077\n",
            "================================================================================\n",
            "Treinando Modelo KNeighborsRegressor\n",
            "R2 Score Train: 0.7924410274499227\n",
            "R2 Score Valid: 0.68 +- 0.05\n",
            "R2 Score Test: 0.7052967841630859\n",
            "================================================================================\n",
            "Treinando Modelo KernelRidge\n",
            "R2 Score Train: 0.5922540778003609\n",
            "R2 Score Valid: 0.58 +- 0.15\n",
            "R2 Score Test: 0.6186149060007775\n",
            "================================================================================\n",
            "Treinando Modelo Lars\n",
            "R2 Score Train: 0.6012210324248282\n",
            "R2 Score Valid: 0.59 +- 0.12\n",
            "R2 Score Test: 0.6234364528295557\n",
            "================================================================================\n",
            "Treinando Modelo LarsCV\n",
            "R2 Score Train: 0.6012210324248282\n",
            "R2 Score Valid: 0.59 +- 0.12\n",
            "R2 Score Test: 0.6234364528295557\n",
            "================================================================================\n",
            "Treinando Modelo Lasso\n",
            "R2 Score Train: 0.0\n",
            "R2 Score Valid: -0.01 +- 0.01\n",
            "R2 Score Test: -0.0016538742649583327\n",
            "================================================================================\n",
            "Treinando Modelo LassoCV\n",
            "R2 Score Train: 0.6012120980530363\n",
            "R2 Score Valid: 0.59 +- 0.12\n",
            "R2 Score Test: 0.623758461743855\n",
            "================================================================================\n",
            "Treinando Modelo LassoLars\n",
            "R2 Score Train: 0.0\n",
            "R2 Score Valid: -0.01 +- 0.01\n",
            "R2 Score Test: -0.0016538742649583327\n",
            "================================================================================\n",
            "Treinando Modelo LassoLarsCV\n",
            "R2 Score Train: 0.6012210324248282\n",
            "R2 Score Valid: 0.59 +- 0.12\n",
            "R2 Score Test: 0.6234364528295557\n",
            "================================================================================\n",
            "Treinando Modelo LassoLarsIC\n",
            "R2 Score Train: 0.6012210324248282\n",
            "R2 Score Valid: 0.59 +- 0.12\n",
            "R2 Score Test: 0.6234364528295557\n",
            "================================================================================\n",
            "Treinando Modelo LinearRegression\n",
            "R2 Score Train: 0.6011775050836603\n",
            "R2 Score Valid: 0.59 +- 0.12\n",
            "R2 Score Test: 0.6236918447455909\n",
            "================================================================================\n",
            "Treinando Modelo LinearSVR\n"
          ],
          "name": "stdout"
        },
        {
          "output_type": "stream",
          "text": [
            "/usr/local/lib/python3.6/dist-packages/sklearn/svm/_base.py:947: ConvergenceWarning: Liblinear failed to converge, increase the number of iterations.\n",
            "  \"the number of iterations.\", ConvergenceWarning)\n",
            "/usr/local/lib/python3.6/dist-packages/sklearn/svm/_base.py:947: ConvergenceWarning: Liblinear failed to converge, increase the number of iterations.\n",
            "  \"the number of iterations.\", ConvergenceWarning)\n",
            "/usr/local/lib/python3.6/dist-packages/sklearn/svm/_base.py:947: ConvergenceWarning: Liblinear failed to converge, increase the number of iterations.\n",
            "  \"the number of iterations.\", ConvergenceWarning)\n",
            "/usr/local/lib/python3.6/dist-packages/sklearn/svm/_base.py:947: ConvergenceWarning: Liblinear failed to converge, increase the number of iterations.\n",
            "  \"the number of iterations.\", ConvergenceWarning)\n",
            "/usr/local/lib/python3.6/dist-packages/sklearn/svm/_base.py:947: ConvergenceWarning: Liblinear failed to converge, increase the number of iterations.\n",
            "  \"the number of iterations.\", ConvergenceWarning)\n",
            "/usr/local/lib/python3.6/dist-packages/sklearn/svm/_base.py:947: ConvergenceWarning: Liblinear failed to converge, increase the number of iterations.\n",
            "  \"the number of iterations.\", ConvergenceWarning)\n"
          ],
          "name": "stderr"
        },
        {
          "output_type": "stream",
          "text": [
            "R2 Score Train: 0.5526700156162401\n",
            "R2 Score Valid: 0.55 +- 0.17\n",
            "R2 Score Test: 0.6103166686905238\n",
            "================================================================================\n",
            "Treinando Modelo MLPRegressor\n"
          ],
          "name": "stdout"
        },
        {
          "output_type": "stream",
          "text": [
            "/usr/local/lib/python3.6/dist-packages/sklearn/neural_network/_multilayer_perceptron.py:571: ConvergenceWarning: Stochastic Optimizer: Maximum iterations (200) reached and the optimization hasn't converged yet.\n",
            "  % self.max_iter, ConvergenceWarning)\n",
            "/usr/local/lib/python3.6/dist-packages/sklearn/neural_network/_multilayer_perceptron.py:571: ConvergenceWarning: Stochastic Optimizer: Maximum iterations (200) reached and the optimization hasn't converged yet.\n",
            "  % self.max_iter, ConvergenceWarning)\n",
            "/usr/local/lib/python3.6/dist-packages/sklearn/neural_network/_multilayer_perceptron.py:571: ConvergenceWarning: Stochastic Optimizer: Maximum iterations (200) reached and the optimization hasn't converged yet.\n",
            "  % self.max_iter, ConvergenceWarning)\n",
            "/usr/local/lib/python3.6/dist-packages/sklearn/neural_network/_multilayer_perceptron.py:571: ConvergenceWarning: Stochastic Optimizer: Maximum iterations (200) reached and the optimization hasn't converged yet.\n",
            "  % self.max_iter, ConvergenceWarning)\n",
            "/usr/local/lib/python3.6/dist-packages/sklearn/neural_network/_multilayer_perceptron.py:571: ConvergenceWarning: Stochastic Optimizer: Maximum iterations (200) reached and the optimization hasn't converged yet.\n",
            "  % self.max_iter, ConvergenceWarning)\n",
            "/usr/local/lib/python3.6/dist-packages/sklearn/neural_network/_multilayer_perceptron.py:571: ConvergenceWarning: Stochastic Optimizer: Maximum iterations (200) reached and the optimization hasn't converged yet.\n",
            "  % self.max_iter, ConvergenceWarning)\n"
          ],
          "name": "stderr"
        },
        {
          "output_type": "stream",
          "text": [
            "R2 Score Train: 0.7266737542048014\n",
            "R2 Score Valid: 0.71 +- 0.07\n",
            "R2 Score Test: 0.7036071450368079\n",
            "================================================================================\n",
            "Treinando Modelo MultiTaskElasticNetCV\n",
            "Ignoring MultiTaskElasticNetCV\n",
            "Treinando Modelo MultiTaskLasso\n",
            "Ignoring MultiTaskLasso\n",
            "Treinando Modelo MultiTaskLassoCV\n",
            "Ignoring MultiTaskLassoCV\n",
            "Treinando Modelo NuSVR\n",
            "R2 Score Train: 0.737448269243369\n",
            "R2 Score Valid: 0.72 +- 0.07\n",
            "R2 Score Test: 0.7132661443478059\n",
            "================================================================================\n",
            "Treinando Modelo OrthogonalMatchingPursuit\n",
            "R2 Score Train: 0.4625425224728076\n",
            "R2 Score Valid: 0.45 +- 0.18\n",
            "R2 Score Test: 0.523997377892827\n",
            "================================================================================\n",
            "Treinando Modelo OrthogonalMatchingPursuitCV\n",
            "R2 Score Train: 0.6012210324248282\n",
            "R2 Score Valid: 0.59 +- 0.12\n",
            "R2 Score Test: 0.6234364528295557\n",
            "================================================================================\n",
            "Treinando Modelo PLSCanonical\n",
            "R2 Score Train: 0.2282505146399173\n",
            "R2 Score Valid: 0.21 +- 0.19\n",
            "R2 Score Test: 0.2234456315661583\n",
            "================================================================================\n",
            "Treinando Modelo PLSRegression\n",
            "R2 Score Train: 0.5998225105341303\n",
            "R2 Score Valid: 0.59 +- 0.12\n",
            "R2 Score Test: 0.6142050658850435\n",
            "================================================================================\n",
            "Treinando Modelo PassiveAggressiveRegressor\n",
            "R2 Score Train: 0.40872428563194274\n",
            "R2 Score Valid: 0.14 +- 0.30\n",
            "R2 Score Test: 0.34623070064723394\n",
            "================================================================================\n",
            "Treinando Modelo RANSACRegressor\n"
          ],
          "name": "stdout"
        },
        {
          "output_type": "stream",
          "text": [
            "/usr/local/lib/python3.6/dist-packages/sklearn/cross_decomposition/_pls.py:321: UserWarning: Y residual constant at iteration 1\n",
            "  warnings.warn('Y residual constant at iteration %s' % k)\n",
            "/usr/local/lib/python3.6/dist-packages/sklearn/cross_decomposition/_pls.py:321: UserWarning: Y residual constant at iteration 1\n",
            "  warnings.warn('Y residual constant at iteration %s' % k)\n",
            "/usr/local/lib/python3.6/dist-packages/sklearn/cross_decomposition/_pls.py:321: UserWarning: Y residual constant at iteration 1\n",
            "  warnings.warn('Y residual constant at iteration %s' % k)\n",
            "/usr/local/lib/python3.6/dist-packages/sklearn/cross_decomposition/_pls.py:321: UserWarning: Y residual constant at iteration 1\n",
            "  warnings.warn('Y residual constant at iteration %s' % k)\n",
            "/usr/local/lib/python3.6/dist-packages/sklearn/cross_decomposition/_pls.py:321: UserWarning: Y residual constant at iteration 1\n",
            "  warnings.warn('Y residual constant at iteration %s' % k)\n",
            "/usr/local/lib/python3.6/dist-packages/sklearn/cross_decomposition/_pls.py:321: UserWarning: Y residual constant at iteration 1\n",
            "  warnings.warn('Y residual constant at iteration %s' % k)\n"
          ],
          "name": "stderr"
        },
        {
          "output_type": "stream",
          "text": [
            "R2 Score Train: 0.42507214599274884\n",
            "R2 Score Valid: 0.46 +- 0.20\n",
            "R2 Score Test: 0.5068553066227031\n",
            "================================================================================\n",
            "Treinando Modelo RadiusNeighborsRegressor\n",
            "Ignoring RadiusNeighborsRegressor\n",
            "Treinando Modelo RandomForestRegressor\n"
          ],
          "name": "stdout"
        },
        {
          "output_type": "stream",
          "text": [
            "/usr/local/lib/python3.6/dist-packages/sklearn/neighbors/_regression.py:362: UserWarning: One or more samples have no neighbors within specified radius; predicting NaN.\n",
            "  warnings.warn(empty_warning_msg)\n"
          ],
          "name": "stderr"
        },
        {
          "output_type": "stream",
          "text": [
            "R2 Score Train: 0.8664711010616786\n",
            "R2 Score Valid: 0.68 +- 0.05\n",
            "R2 Score Test: 0.7281766147419715\n",
            "================================================================================\n",
            "Treinando Modelo RegressorChain\n",
            "Ignoring RegressorChain\n",
            "Treinando Modelo Ridge\n",
            "R2 Score Train: 0.601211092364409\n",
            "R2 Score Valid: 0.59 +- 0.12\n",
            "R2 Score Test: 0.6240340341635531\n",
            "================================================================================\n",
            "Treinando Modelo RidgeCV\n",
            "R2 Score Train: 0.6012110923644094\n",
            "R2 Score Valid: 0.59 +- 0.12\n",
            "R2 Score Test: 0.6240340341635653\n",
            "================================================================================\n",
            "Treinando Modelo SGDRegressor\n",
            "R2 Score Train: 0.5844211420431752\n",
            "R2 Score Valid: 0.56 +- 0.17\n",
            "R2 Score Test: 0.6118199902179546\n",
            "================================================================================\n",
            "Treinando Modelo SVR\n",
            "R2 Score Train: 0.7345972275266579\n",
            "R2 Score Valid: 0.72 +- 0.07\n",
            "R2 Score Test: 0.7132957760525864\n",
            "================================================================================\n",
            "Treinando Modelo StackingRegressor\n",
            "Ignoring StackingRegressor\n",
            "Treinando Modelo TheilSenRegressor\n",
            "R2 Score Train: 0.5214215837390783\n",
            "R2 Score Valid: 0.52 +- 0.18\n",
            "R2 Score Test: 0.5767903886653336\n",
            "================================================================================\n",
            "Treinando Modelo TransformedTargetRegressor\n",
            "R2 Score Train: 0.6011775050836603\n",
            "R2 Score Valid: 0.59 +- 0.12\n",
            "R2 Score Test: 0.6236918447455909\n",
            "================================================================================\n",
            "Treinando Modelo VotingRegressor\n",
            "Ignoring VotingRegressor\n",
            "Treinando Modelo LGBMRegressor\n",
            "R2 Score Train: 0.7995456704936577\n",
            "R2 Score Valid: 0.69 +- 0.08\n",
            "R2 Score Test: 0.7269038788547185\n",
            "================================================================================\n",
            "Treinando Modelo XGBRegressor\n",
            "[20:12:20] WARNING: /workspace/src/objective/regression_obj.cu:152: reg:linear is now deprecated in favor of reg:squarederror.\n",
            "[20:12:20] WARNING: /workspace/src/objective/regression_obj.cu:152: reg:linear is now deprecated in favor of reg:squarederror.\n",
            "[20:12:20] WARNING: /workspace/src/objective/regression_obj.cu:152: reg:linear is now deprecated in favor of reg:squarederror.\n",
            "[20:12:20] WARNING: /workspace/src/objective/regression_obj.cu:152: reg:linear is now deprecated in favor of reg:squarederror.\n",
            "[20:12:20] WARNING: /workspace/src/objective/regression_obj.cu:152: reg:linear is now deprecated in favor of reg:squarederror.\n",
            "[20:12:20] WARNING: /workspace/src/objective/regression_obj.cu:152: reg:linear is now deprecated in favor of reg:squarederror.\n",
            "R2 Score Train: 0.7960825942221591\n",
            "R2 Score Valid: 0.73 +- 0.06\n",
            "R2 Score Test: 0.7233996294302408\n",
            "================================================================================\n"
          ],
          "name": "stdout"
        }
      ]
    },
    {
      "cell_type": "code",
      "metadata": {
        "id": "bbdGuVWkbxQ6",
        "colab_type": "code",
        "colab": {
          "base_uri": "https://localhost:8080/",
          "height": 437
        },
        "outputId": "3e92ba44-50f4-477d-97b1-a2948483eff9"
      },
      "source": [
        "relatorio = pd.DataFrame(relatorio).sort_values(by='cv_scores_mean', ascending=False)\n",
        "relatorio.head(10)"
      ],
      "execution_count": 17,
      "outputs": [
        {
          "output_type": "execute_result",
          "data": {
            "text/html": [
              "<div>\n",
              "<style scoped>\n",
              "    .dataframe tbody tr th:only-of-type {\n",
              "        vertical-align: middle;\n",
              "    }\n",
              "\n",
              "    .dataframe tbody tr th {\n",
              "        vertical-align: top;\n",
              "    }\n",
              "\n",
              "    .dataframe thead th {\n",
              "        text-align: right;\n",
              "    }\n",
              "</style>\n",
              "<table border=\"1\" class=\"dataframe\">\n",
              "  <thead>\n",
              "    <tr style=\"text-align: right;\">\n",
              "      <th></th>\n",
              "      <th>nome</th>\n",
              "      <th>train_score</th>\n",
              "      <th>cv_scores_mean</th>\n",
              "      <th>test_score</th>\n",
              "      <th>estimador</th>\n",
              "    </tr>\n",
              "  </thead>\n",
              "  <tbody>\n",
              "    <tr>\n",
              "      <th>41</th>\n",
              "      <td>XGBRegressor</td>\n",
              "      <td>0.796083</td>\n",
              "      <td>0.733585</td>\n",
              "      <td>0.723400</td>\n",
              "      <td>XGBRegressor(base_score=0.5, booster='gbtree',...</td>\n",
              "    </tr>\n",
              "    <tr>\n",
              "      <th>11</th>\n",
              "      <td>GradientBoostingRegressor</td>\n",
              "      <td>0.808639</td>\n",
              "      <td>0.729663</td>\n",
              "      <td>0.729113</td>\n",
              "      <td>([DecisionTreeRegressor(ccp_alpha=0.0, criteri...</td>\n",
              "    </tr>\n",
              "    <tr>\n",
              "      <th>26</th>\n",
              "      <td>NuSVR</td>\n",
              "      <td>0.737448</td>\n",
              "      <td>0.724886</td>\n",
              "      <td>0.713266</td>\n",
              "      <td>NuSVR(C=1.0, cache_size=200, coef0=0.0, degree...</td>\n",
              "    </tr>\n",
              "    <tr>\n",
              "      <th>37</th>\n",
              "      <td>SVR</td>\n",
              "      <td>0.734597</td>\n",
              "      <td>0.721531</td>\n",
              "      <td>0.713296</td>\n",
              "      <td>SVR(C=1.0, cache_size=200, coef0=0.0, degree=3...</td>\n",
              "    </tr>\n",
              "    <tr>\n",
              "      <th>25</th>\n",
              "      <td>MLPRegressor</td>\n",
              "      <td>0.726674</td>\n",
              "      <td>0.710701</td>\n",
              "      <td>0.703607</td>\n",
              "      <td>MLPRegressor(activation='relu', alpha=0.0001, ...</td>\n",
              "    </tr>\n",
              "    <tr>\n",
              "      <th>40</th>\n",
              "      <td>LGBMRegressor</td>\n",
              "      <td>0.799546</td>\n",
              "      <td>0.690786</td>\n",
              "      <td>0.726904</td>\n",
              "      <td>LGBMRegressor(boosting_type='gbdt', class_weig...</td>\n",
              "    </tr>\n",
              "    <tr>\n",
              "      <th>12</th>\n",
              "      <td>HistGradientBoostingRegressor</td>\n",
              "      <td>0.802332</td>\n",
              "      <td>0.688338</td>\n",
              "      <td>0.728216</td>\n",
              "      <td>HistGradientBoostingRegressor(l2_regularizatio...</td>\n",
              "    </tr>\n",
              "    <tr>\n",
              "      <th>14</th>\n",
              "      <td>KNeighborsRegressor</td>\n",
              "      <td>0.792441</td>\n",
              "      <td>0.684014</td>\n",
              "      <td>0.705297</td>\n",
              "      <td>KNeighborsRegressor(algorithm='auto', leaf_siz...</td>\n",
              "    </tr>\n",
              "    <tr>\n",
              "      <th>33</th>\n",
              "      <td>RandomForestRegressor</td>\n",
              "      <td>0.866471</td>\n",
              "      <td>0.683530</td>\n",
              "      <td>0.728177</td>\n",
              "      <td>(DecisionTreeRegressor(ccp_alpha=0.0, criterio...</td>\n",
              "    </tr>\n",
              "    <tr>\n",
              "      <th>2</th>\n",
              "      <td>BaggingRegressor</td>\n",
              "      <td>0.859653</td>\n",
              "      <td>0.670357</td>\n",
              "      <td>0.708310</td>\n",
              "      <td>(DecisionTreeRegressor(ccp_alpha=0.0, criterio...</td>\n",
              "    </tr>\n",
              "  </tbody>\n",
              "</table>\n",
              "</div>"
            ],
            "text/plain": [
              "                             nome  ...                                          estimador\n",
              "41                   XGBRegressor  ...  XGBRegressor(base_score=0.5, booster='gbtree',...\n",
              "11      GradientBoostingRegressor  ...  ([DecisionTreeRegressor(ccp_alpha=0.0, criteri...\n",
              "26                          NuSVR  ...  NuSVR(C=1.0, cache_size=200, coef0=0.0, degree...\n",
              "37                            SVR  ...  SVR(C=1.0, cache_size=200, coef0=0.0, degree=3...\n",
              "25                   MLPRegressor  ...  MLPRegressor(activation='relu', alpha=0.0001, ...\n",
              "40                  LGBMRegressor  ...  LGBMRegressor(boosting_type='gbdt', class_weig...\n",
              "12  HistGradientBoostingRegressor  ...  HistGradientBoostingRegressor(l2_regularizatio...\n",
              "14            KNeighborsRegressor  ...  KNeighborsRegressor(algorithm='auto', leaf_siz...\n",
              "33          RandomForestRegressor  ...  (DecisionTreeRegressor(ccp_alpha=0.0, criterio...\n",
              "2                BaggingRegressor  ...  (DecisionTreeRegressor(ccp_alpha=0.0, criterio...\n",
              "\n",
              "[10 rows x 5 columns]"
            ]
          },
          "metadata": {
            "tags": []
          },
          "execution_count": 17
        }
      ]
    },
    {
      "cell_type": "markdown",
      "metadata": {
        "id": "ooicjozH-CdH",
        "colab_type": "text"
      },
      "source": [
        "### 3.4 TODO: Calibrar melhores estimadores usando GridSearchCV"
      ]
    },
    {
      "cell_type": "code",
      "metadata": {
        "id": "iH1s0ADL-cyS",
        "colab_type": "code",
        "colab": {}
      },
      "source": [
        "## Usar GridSearchCV para calibrar os melhores estimadores"
      ],
      "execution_count": null,
      "outputs": []
    },
    {
      "cell_type": "code",
      "metadata": {
        "id": "HFMXLNGH-2Xr",
        "colab_type": "code",
        "colab": {}
      },
      "source": [
        ""
      ],
      "execution_count": null,
      "outputs": []
    },
    {
      "cell_type": "markdown",
      "metadata": {
        "id": "KZqXRTdf-jx_",
        "colab_type": "text"
      },
      "source": [
        "### 3.5 (Opcional) Combinar os melhores estimadores usando Stacking"
      ]
    },
    {
      "cell_type": "code",
      "metadata": {
        "id": "8qQQOpXIg-K9",
        "colab_type": "code",
        "colab": {
          "base_uri": "https://localhost:8080/",
          "height": 815
        },
        "outputId": "b0f2b0cd-d317-4d9f-e0b2-3cf77d1fffa0"
      },
      "source": [
        "from sklearn.ensemble import StackingRegressor\n",
        "\n",
        "top_3_regs = relatorio[['nome', 'estimador']].values[:3]\n",
        "\n",
        "reg = StackingRegressor(\n",
        "    estimators=top_3_regs\n",
        ")\n",
        "\n",
        "reg.fit(X_train, y_train)\n",
        "\n",
        "train_score = reg.score(X_train, y_train)\n",
        "cv_scores = cross_val_score(reg, X_train, y_train)\n",
        "test_score = reg.score(X_test, y_test)\n",
        "\n",
        "print(f\"R2 Score Train: {train_score}\")\n",
        "print(f\"R2 Score Valid: {np.mean(cv_scores):.2f} +- {np.std(cv_scores):.2f}\")\n",
        "print(f\"R2 Score Test: {test_score}\")\n",
        "print('='*80)"
      ],
      "execution_count": 21,
      "outputs": [
        {
          "output_type": "stream",
          "text": [
            "[20:18:53] WARNING: /workspace/src/objective/regression_obj.cu:152: reg:linear is now deprecated in favor of reg:squarederror.\n",
            "[20:18:53] WARNING: /workspace/src/objective/regression_obj.cu:152: reg:linear is now deprecated in favor of reg:squarederror.\n",
            "[20:18:53] WARNING: /workspace/src/objective/regression_obj.cu:152: reg:linear is now deprecated in favor of reg:squarederror.\n",
            "[20:18:53] WARNING: /workspace/src/objective/regression_obj.cu:152: reg:linear is now deprecated in favor of reg:squarederror.\n",
            "[20:18:53] WARNING: /workspace/src/objective/regression_obj.cu:152: reg:linear is now deprecated in favor of reg:squarederror.\n",
            "[20:18:53] WARNING: /workspace/src/objective/regression_obj.cu:152: reg:linear is now deprecated in favor of reg:squarederror.\n",
            "[20:18:54] WARNING: /workspace/src/objective/regression_obj.cu:152: reg:linear is now deprecated in favor of reg:squarederror.\n",
            "[20:18:54] WARNING: /workspace/src/objective/regression_obj.cu:152: reg:linear is now deprecated in favor of reg:squarederror.\n",
            "[20:18:54] WARNING: /workspace/src/objective/regression_obj.cu:152: reg:linear is now deprecated in favor of reg:squarederror.\n",
            "[20:18:54] WARNING: /workspace/src/objective/regression_obj.cu:152: reg:linear is now deprecated in favor of reg:squarederror.\n",
            "[20:18:54] WARNING: /workspace/src/objective/regression_obj.cu:152: reg:linear is now deprecated in favor of reg:squarederror.\n",
            "[20:18:54] WARNING: /workspace/src/objective/regression_obj.cu:152: reg:linear is now deprecated in favor of reg:squarederror.\n",
            "[20:18:54] WARNING: /workspace/src/objective/regression_obj.cu:152: reg:linear is now deprecated in favor of reg:squarederror.\n",
            "[20:18:54] WARNING: /workspace/src/objective/regression_obj.cu:152: reg:linear is now deprecated in favor of reg:squarederror.\n",
            "[20:18:54] WARNING: /workspace/src/objective/regression_obj.cu:152: reg:linear is now deprecated in favor of reg:squarederror.\n",
            "[20:18:54] WARNING: /workspace/src/objective/regression_obj.cu:152: reg:linear is now deprecated in favor of reg:squarederror.\n",
            "[20:18:54] WARNING: /workspace/src/objective/regression_obj.cu:152: reg:linear is now deprecated in favor of reg:squarederror.\n",
            "[20:18:54] WARNING: /workspace/src/objective/regression_obj.cu:152: reg:linear is now deprecated in favor of reg:squarederror.\n",
            "[20:18:54] WARNING: /workspace/src/objective/regression_obj.cu:152: reg:linear is now deprecated in favor of reg:squarederror.\n",
            "[20:18:55] WARNING: /workspace/src/objective/regression_obj.cu:152: reg:linear is now deprecated in favor of reg:squarederror.\n",
            "[20:18:55] WARNING: /workspace/src/objective/regression_obj.cu:152: reg:linear is now deprecated in favor of reg:squarederror.\n",
            "[20:18:55] WARNING: /workspace/src/objective/regression_obj.cu:152: reg:linear is now deprecated in favor of reg:squarederror.\n",
            "[20:18:55] WARNING: /workspace/src/objective/regression_obj.cu:152: reg:linear is now deprecated in favor of reg:squarederror.\n",
            "[20:18:55] WARNING: /workspace/src/objective/regression_obj.cu:152: reg:linear is now deprecated in favor of reg:squarederror.\n",
            "[20:18:55] WARNING: /workspace/src/objective/regression_obj.cu:152: reg:linear is now deprecated in favor of reg:squarederror.\n",
            "[20:18:55] WARNING: /workspace/src/objective/regression_obj.cu:152: reg:linear is now deprecated in favor of reg:squarederror.\n",
            "[20:18:55] WARNING: /workspace/src/objective/regression_obj.cu:152: reg:linear is now deprecated in favor of reg:squarederror.\n",
            "[20:18:56] WARNING: /workspace/src/objective/regression_obj.cu:152: reg:linear is now deprecated in favor of reg:squarederror.\n",
            "[20:18:56] WARNING: /workspace/src/objective/regression_obj.cu:152: reg:linear is now deprecated in favor of reg:squarederror.\n",
            "[20:18:56] WARNING: /workspace/src/objective/regression_obj.cu:152: reg:linear is now deprecated in favor of reg:squarederror.\n",
            "[20:18:56] WARNING: /workspace/src/objective/regression_obj.cu:152: reg:linear is now deprecated in favor of reg:squarederror.\n",
            "[20:18:56] WARNING: /workspace/src/objective/regression_obj.cu:152: reg:linear is now deprecated in favor of reg:squarederror.\n",
            "[20:18:56] WARNING: /workspace/src/objective/regression_obj.cu:152: reg:linear is now deprecated in favor of reg:squarederror.\n",
            "[20:18:56] WARNING: /workspace/src/objective/regression_obj.cu:152: reg:linear is now deprecated in favor of reg:squarederror.\n",
            "[20:18:56] WARNING: /workspace/src/objective/regression_obj.cu:152: reg:linear is now deprecated in favor of reg:squarederror.\n",
            "[20:18:56] WARNING: /workspace/src/objective/regression_obj.cu:152: reg:linear is now deprecated in favor of reg:squarederror.\n",
            "[20:18:56] WARNING: /workspace/src/objective/regression_obj.cu:152: reg:linear is now deprecated in favor of reg:squarederror.\n",
            "[20:18:57] WARNING: /workspace/src/objective/regression_obj.cu:152: reg:linear is now deprecated in favor of reg:squarederror.\n",
            "[20:18:57] WARNING: /workspace/src/objective/regression_obj.cu:152: reg:linear is now deprecated in favor of reg:squarederror.\n",
            "[20:18:57] WARNING: /workspace/src/objective/regression_obj.cu:152: reg:linear is now deprecated in favor of reg:squarederror.\n",
            "[20:18:57] WARNING: /workspace/src/objective/regression_obj.cu:152: reg:linear is now deprecated in favor of reg:squarederror.\n",
            "R2 Score Train: 0.7850127684840529\n",
            "R2 Score Valid: 0.74 +- 0.06\n",
            "R2 Score Test: 0.7271540018261753\n",
            "================================================================================\n"
          ],
          "name": "stdout"
        }
      ]
    },
    {
      "cell_type": "code",
      "metadata": {
        "id": "4z5V0-E5g-AC",
        "colab_type": "code",
        "colab": {
          "base_uri": "https://localhost:8080/",
          "height": 294
        },
        "outputId": "307924c4-867e-4bb6-f1b8-d0e25d62c650"
      },
      "source": [
        "reg"
      ],
      "execution_count": 22,
      "outputs": [
        {
          "output_type": "execute_result",
          "data": {
            "text/plain": [
              "StackingRegressor(cv=None,\n",
              "                  estimators=array([['XGBRegressor',\n",
              "        XGBRegressor(base_score=0.5, booster='gbtree', colsample_bylevel=1,\n",
              "             colsample_bynode=1, colsample_bytree=1, gamma=0,\n",
              "             importance_type='gain', learning_rate=0.1, max_delta_step=0,\n",
              "             max_depth=3, min_child_weight=1, missing=None, n_estimators=100,\n",
              "             n_jobs=1, nthread=None, objective='reg:linear', random_state=0,...\n",
              "                          n_iter_no_change=None, presort='deprecated',\n",
              "                          random_state=None, subsample=1.0, tol=0.0001,\n",
              "                          validation_fraction=0.1, verbose=0, warm_start=False)],\n",
              "       ['NuSVR',\n",
              "        NuSVR(C=1.0, cache_size=200, coef0=0.0, degree=3, gamma='scale', kernel='rbf',\n",
              "      max_iter=-1, nu=0.5, shrinking=True, tol=0.001, verbose=False)]],\n",
              "      dtype=object),\n",
              "                  final_estimator=None, n_jobs=None, passthrough=False,\n",
              "                  verbose=0)"
            ]
          },
          "metadata": {
            "tags": []
          },
          "execution_count": 22
        }
      ]
    },
    {
      "cell_type": "markdown",
      "metadata": {
        "id": "zaXL6sBB1-qi",
        "colab_type": "text"
      },
      "source": [
        "## 4. Exportar Modelo"
      ]
    },
    {
      "cell_type": "code",
      "metadata": {
        "id": "fnT9KWf52Cs0",
        "colab_type": "code",
        "colab": {}
      },
      "source": [
        "import pickle\n",
        "pickle.dump(reg, open('regressor.pkl', 'wb'), protocol=4)\n"
      ],
      "execution_count": 33,
      "outputs": []
    },
    {
      "cell_type": "code",
      "metadata": {
        "id": "C53m18HT2DWi",
        "colab_type": "code",
        "colab": {
          "base_uri": "https://localhost:8080/",
          "height": 35
        },
        "outputId": "11a8b72a-246f-4b6d-f9ad-e08658bf5bd6"
      },
      "source": [
        "ls"
      ],
      "execution_count": null,
      "outputs": [
        {
          "output_type": "stream",
          "text": [
            "regressor.pkl  \u001b[0m\u001b[01;34msample_data\u001b[0m/\n"
          ],
          "name": "stdout"
        }
      ]
    },
    {
      "cell_type": "code",
      "metadata": {
        "id": "p-cz2E-n2DQV",
        "colab_type": "code",
        "colab": {}
      },
      "source": [
        "%reset -f"
      ],
      "execution_count": null,
      "outputs": []
    },
    {
      "cell_type": "code",
      "metadata": {
        "id": "6GsRAjofm_mr",
        "colab_type": "code",
        "colab": {}
      },
      "source": [
        "import pickle\n",
        "reg = pickle.load(open('regressor.pkl', 'rb'))"
      ],
      "execution_count": null,
      "outputs": []
    },
    {
      "cell_type": "code",
      "metadata": {
        "id": "OZdeE_j6nCbG",
        "colab_type": "code",
        "colab": {
          "base_uri": "https://localhost:8080/",
          "height": 294
        },
        "outputId": "f8e25336-96e1-4518-e8a2-fbe55c710b17"
      },
      "source": [
        "reg"
      ],
      "execution_count": 24,
      "outputs": [
        {
          "output_type": "execute_result",
          "data": {
            "text/plain": [
              "StackingRegressor(cv=None,\n",
              "                  estimators=array([['XGBRegressor',\n",
              "        XGBRegressor(base_score=0.5, booster='gbtree', colsample_bylevel=1,\n",
              "             colsample_bynode=1, colsample_bytree=1, gamma=0,\n",
              "             importance_type='gain', learning_rate=0.1, max_delta_step=0,\n",
              "             max_depth=3, min_child_weight=1, missing=None, n_estimators=100,\n",
              "             n_jobs=1, nthread=None, objective='reg:linear', random_state=0,...\n",
              "                          n_iter_no_change=None, presort='deprecated',\n",
              "                          random_state=None, subsample=1.0, tol=0.0001,\n",
              "                          validation_fraction=0.1, verbose=0, warm_start=False)],\n",
              "       ['NuSVR',\n",
              "        NuSVR(C=1.0, cache_size=200, coef0=0.0, degree=3, gamma='scale', kernel='rbf',\n",
              "      max_iter=-1, nu=0.5, shrinking=True, tol=0.001, verbose=False)]],\n",
              "      dtype=object),\n",
              "                  final_estimator=None, n_jobs=None, passthrough=False,\n",
              "                  verbose=0)"
            ]
          },
          "metadata": {
            "tags": []
          },
          "execution_count": 24
        }
      ]
    },
    {
      "cell_type": "code",
      "metadata": {
        "id": "vOa_1jPXnKPp",
        "colab_type": "code",
        "colab": {
          "base_uri": "https://localhost:8080/",
          "height": 35
        },
        "outputId": "85e18bed-b820-4a28-8993-fddc3fc66522"
      },
      "source": [
        "import numpy as np\n",
        "np.expm1(reg.predict([[0, 0, 0, 1, np.log1p(2), np.log1p(120)]]))"
      ],
      "execution_count": null,
      "outputs": [
        {
          "output_type": "execute_result",
          "data": {
            "text/plain": [
              "array([3148.651579])"
            ]
          },
          "metadata": {
            "tags": []
          },
          "execution_count": 416
        }
      ]
    },
    {
      "cell_type": "code",
      "metadata": {
        "id": "XN22OLgknREX",
        "colab_type": "code",
        "colab": {}
      },
      "source": [
        ""
      ],
      "execution_count": null,
      "outputs": []
    }
  ]
}